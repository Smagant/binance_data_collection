{
 "cells": [
  {
   "cell_type": "markdown",
   "metadata": {},
   "source": [
    "# Binance market data collection"
   ]
  },
  {
   "cell_type": "markdown",
   "metadata": {},
   "source": [
    "### Imports of librairies"
   ]
  },
  {
   "cell_type": "code",
   "execution_count": 46,
   "metadata": {},
   "outputs": [],
   "source": [
    "#Used to connect to the binance API\n",
    "from binance.client import Client\n",
    "\n",
    "#Used to save the data collected into a python object\n",
    "import pandas as pd\n",
    "\n",
    "#Used to pause the script regularly when collecting binance data to deal with the call limits\n",
    "import time"
   ]
  },
  {
   "cell_type": "markdown",
   "metadata": {},
   "source": [
    "### Parameters"
   ]
  },
  {
   "cell_type": "code",
   "execution_count": 47,
   "metadata": {},
   "outputs": [],
   "source": [
    "#Choose the keys to connect to the binance client\n",
    "api_key='API_KEY'\n",
    "private_key='PRIVATE_KEY'\n",
    "\n",
    "#Choose the crypto that you want to collect\n",
    "base_crypto = [\"APE\", \"BTC\", \"ETH\"]\n",
    "quote_crypto = 'BUSD'\n",
    "\n",
    "#Choose the period you want to have (format : \"YYYY-MM-DD\")\n",
    "start_date = \"2019-03-25\"\n",
    "end_date = \"2022-10-22\"\n",
    "\n",
    "#Choose the columns names and types\n",
    "column_names = [\n",
    "    'Date',\n",
    "    'Open',\n",
    "    'High',\n",
    "    'Low',\n",
    "    'Close',\n",
    "    'Volume',\n",
    "    'Kline_Close_time',\n",
    "    'Quote_asset_volume',\n",
    "    'number_of_trade',\n",
    "    'Taker_buy_base_asset_volume',\n",
    "    'Taker_buy_quote_asset_volume',\n",
    "    'Unused field'\n",
    "    ]\n",
    "\n",
    "column_types = {\n",
    "    'Open': 'float',\n",
    "    'High': 'float',\n",
    "    'Low': 'float',\n",
    "    'Close': 'float',\n",
    "    'Volume': 'float',\n",
    "    'Kline_Close_time': 'int',\n",
    "    'Quote_asset_volume': 'float',\n",
    "    'number_of_trade': 'int',\n",
    "    'Taker_buy_base_asset_volume': 'float',\n",
    "    'Taker_buy_quote_asset_volume': 'float',\n",
    "    'Unused field': 'float'\n",
    "    }\n",
    "\n",
    "#Build the URL path and the file name\n",
    "BASE_URL = \"data/\"\n",
    "BASE_FILENAME = \"_historical_klines.csv\""
   ]
  },
  {
   "cell_type": "markdown",
   "metadata": {},
   "source": [
    "### Functions to build the crypto pairs and the list of dates"
   ]
  },
  {
   "cell_type": "code",
   "execution_count": 48,
   "metadata": {},
   "outputs": [],
   "source": [
    "#Generate the crypto pairs\n",
    "def crytoPairs(base_crypto, quote_crypto):\n",
    "    crypto_pairs = []\n",
    "    for base in base_crypto:\n",
    "        crypto_pairs.append(base+quote_crypto)\n",
    "    \n",
    "    return crypto_pairs\n",
    "\n",
    "#Generate all the dates between the startdate and the endate to facilitates the calls to the Binance API\n",
    "def dateList(start_date, end_date):\n",
    "    dateArr = []\n",
    "    months = ['jan', 'feb', 'mar', 'apr', 'may', 'jun', 'jul', 'aug', 'sep', 'oct', 'nov', 'dec']\n",
    "    start_year = int(start_date[0:4])\n",
    "    end_year = int(end_date[0:4])\n",
    "    start_month = int(start_date[5:7])\n",
    "    end_month = int(end_date[5:7])\n",
    "    start_day = start_date[8:10]\n",
    "    end_day = end_date[8:10]\n",
    "\n",
    "    for year in range(start_year, end_year+1):\n",
    "        if not dateArr:\n",
    "            dateArr.append(start_day + \" \" + months[start_month-1] + \", \" + str(year))\n",
    "        \n",
    "        if len(dateArr)!=0:\n",
    "            dateArr.append('1 jan, ' + str(year))\n",
    "        \n",
    "        if year == end_year:\n",
    "            dateArr.append(end_day + \" \" + months[end_month-1] + \", \" + str(year))\n",
    "    \n",
    "    return dateArr"
   ]
  },
  {
   "cell_type": "markdown",
   "metadata": {},
   "source": [
    "### Build the crypto pairs and the list of dates"
   ]
  },
  {
   "cell_type": "code",
   "execution_count": 49,
   "metadata": {},
   "outputs": [],
   "source": [
    "#Build the crypto pairs\n",
    "crypto_pairs = crytoPairs(base_crypto, quote_crypto)\n",
    "\n",
    "#Build the list of dates\n",
    "dates = dateList(start_date, end_date)"
   ]
  },
  {
   "cell_type": "markdown",
   "metadata": {},
   "source": [
    "### Authentification"
   ]
  },
  {
   "cell_type": "code",
   "execution_count": 50,
   "metadata": {},
   "outputs": [],
   "source": [
    "client = Client(api_key, private_key)"
   ]
  },
  {
   "cell_type": "markdown",
   "metadata": {},
   "source": [
    "### Function to get the historical Klines"
   ]
  },
  {
   "cell_type": "code",
   "execution_count": 51,
   "metadata": {},
   "outputs": [],
   "source": [
    "#Function to collect the klines data from all the important coins with the coin that I want to study\n",
    "def getHistoricalKlinesData(crypto_pairs, dates, column_names, column_types):\n",
    "    \n",
    "    pairs_data = {}\n",
    "    \n",
    "    #Collecter les données depuis l'API\n",
    "    for pairs in crypto_pairs:\n",
    "        \n",
    "        i = 0\n",
    "        while i + 1 < len(dates):\n",
    "            #collecter les données\n",
    "            candles = client.get_historical_klines(symbol=pairs,\n",
    "                                                interval=Client.KLINE_INTERVAL_1DAY,\n",
    "                                                start_str=dates[i],\n",
    "                                                end_str=dates[i+1])\n",
    "            \n",
    "            #stop la boucle pendant 2 seconds pour attendre la fin de la limite de collecte de données sur Binance\n",
    "            time.sleep(2)\n",
    "            i += 1\n",
    "            \n",
    "        #Rentrer les données dans un dataframe\n",
    "        df = pd.DataFrame(candles, columns=column_names)\n",
    "        \n",
    "        #Convertir chaque colonne dans le bon format\n",
    "        df['Date'] = pd.to_datetime(df['Date'], unit='ms')\n",
    "        df = df.astype(column_types)\n",
    "        \n",
    "        pairs_data[pairs] = df\n",
    "    return pairs_data"
   ]
  },
  {
   "cell_type": "markdown",
   "metadata": {},
   "source": [
    "### Save the raw data collected to a dictionnary of dataframes"
   ]
  },
  {
   "cell_type": "code",
   "execution_count": 52,
   "metadata": {},
   "outputs": [],
   "source": [
    "dict_df = getHistoricalKlinesData(crypto_pairs, dates, column_names, column_types)"
   ]
  },
  {
   "cell_type": "markdown",
   "metadata": {},
   "source": [
    "### Save the multiple dataframes to multiple csv files"
   ]
  },
  {
   "cell_type": "code",
   "execution_count": 53,
   "metadata": {},
   "outputs": [],
   "source": [
    "for coins in crypto_pairs:\n",
    "    dict_df[coins].to_csv(BASE_URL + coins + BASE_FILENAME, encoding=\"utf-8\")"
   ]
  }
 ],
 "metadata": {
  "kernelspec": {
   "display_name": "Python 3.9.1 64-bit",
   "language": "python",
   "name": "python3"
  },
  "language_info": {
   "codemirror_mode": {
    "name": "ipython",
    "version": 3
   },
   "file_extension": ".py",
   "mimetype": "text/x-python",
   "name": "python",
   "nbconvert_exporter": "python",
   "pygments_lexer": "ipython3",
   "version": "3.9.1"
  },
  "vscode": {
   "interpreter": {
    "hash": "5242ca461c9896c5dd1762074b6eb490d7d6fe018ebfbec855bc06f248d384cc"
   }
  }
 },
 "nbformat": 4,
 "nbformat_minor": 4
}
